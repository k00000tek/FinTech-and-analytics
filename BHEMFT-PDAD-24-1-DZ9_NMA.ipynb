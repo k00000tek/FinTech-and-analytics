{
 "cells": [
  {
   "cell_type": "markdown",
   "id": "520979ef-8175-47d0-8ac9-a0c0a7f63d18",
   "metadata": {},
   "source": [
    "## Домашнее задание 9. Функции и работа с данными"
   ]
  },
  {
   "cell_type": "markdown",
   "id": "533b7a68-bd26-4390-886f-40f1c8acc094",
   "metadata": {},
   "source": [
    "## Задание 1\n",
    "Напишите функцию, которая классифицирует фильмы из материалов занятия по правилам:\n",
    "- оценка 2 и ниже - низкий рейтинг;\n",
    "- оценка 4 и ниже - средний рейтинг;\n",
    "- оценка 4.5 и 5 - высокий рейтинг.\n",
    "Результат классификации запишите в столбец class.lass."
   ]
  },
  {
   "cell_type": "code",
   "execution_count": 207,
   "id": "2617c9fa-ba4d-42e4-ad4f-02cbd930f1a9",
   "metadata": {},
   "outputs": [],
   "source": [
    "import pandas as pd"
   ]
  },
  {
   "cell_type": "code",
   "execution_count": 209,
   "id": "9a0c2a49-a6d1-4d3b-a056-21bfe12adac0",
   "metadata": {},
   "outputs": [
    {
     "data": {
      "text/html": [
       "<div>\n",
       "<style scoped>\n",
       "    .dataframe tbody tr th:only-of-type {\n",
       "        vertical-align: middle;\n",
       "    }\n",
       "\n",
       "    .dataframe tbody tr th {\n",
       "        vertical-align: top;\n",
       "    }\n",
       "\n",
       "    .dataframe thead th {\n",
       "        text-align: right;\n",
       "    }\n",
       "</style>\n",
       "<table border=\"1\" class=\"dataframe\">\n",
       "  <thead>\n",
       "    <tr style=\"text-align: right;\">\n",
       "      <th></th>\n",
       "      <th>userId</th>\n",
       "      <th>movieId</th>\n",
       "      <th>rating</th>\n",
       "      <th>timestamp</th>\n",
       "    </tr>\n",
       "  </thead>\n",
       "  <tbody>\n",
       "    <tr>\n",
       "      <th>0</th>\n",
       "      <td>1</td>\n",
       "      <td>31</td>\n",
       "      <td>2.5</td>\n",
       "      <td>1260759144</td>\n",
       "    </tr>\n",
       "    <tr>\n",
       "      <th>1</th>\n",
       "      <td>1</td>\n",
       "      <td>1029</td>\n",
       "      <td>3.0</td>\n",
       "      <td>1260759179</td>\n",
       "    </tr>\n",
       "    <tr>\n",
       "      <th>2</th>\n",
       "      <td>1</td>\n",
       "      <td>1061</td>\n",
       "      <td>3.0</td>\n",
       "      <td>1260759182</td>\n",
       "    </tr>\n",
       "    <tr>\n",
       "      <th>3</th>\n",
       "      <td>1</td>\n",
       "      <td>1129</td>\n",
       "      <td>2.0</td>\n",
       "      <td>1260759185</td>\n",
       "    </tr>\n",
       "    <tr>\n",
       "      <th>4</th>\n",
       "      <td>1</td>\n",
       "      <td>1172</td>\n",
       "      <td>4.0</td>\n",
       "      <td>1260759205</td>\n",
       "    </tr>\n",
       "  </tbody>\n",
       "</table>\n",
       "</div>"
      ],
      "text/plain": [
       "   userId  movieId  rating   timestamp\n",
       "0       1       31     2.5  1260759144\n",
       "1       1     1029     3.0  1260759179\n",
       "2       1     1061     3.0  1260759182\n",
       "3       1     1129     2.0  1260759185\n",
       "4       1     1172     4.0  1260759205"
      ]
     },
     "execution_count": 209,
     "metadata": {},
     "output_type": "execute_result"
    }
   ],
   "source": [
    "# Импортируем таблицу Рейтинга\n",
    "ratings = pd.read_csv('data/DZ9/ratings.csv')\n",
    "ratings.head()"
   ]
  },
  {
   "cell_type": "code",
   "execution_count": 253,
   "id": "047675c6-0dc2-4ca1-a595-149db9314f3f",
   "metadata": {},
   "outputs": [],
   "source": [
    "def movie_rating(df):\n",
    "    \"\"\"Возвращает значение среднего рейтинга для movieId\"\"\"\n",
    "    rat_sum = df.agg({'rating':'sum'})['rating']\n",
    "    rat_cou = df.agg({'rating':'count'})['rating']\n",
    "    # среднее значение = сумма всех оценок / количество оценок\n",
    "    return rat_sum/rat_cou"
   ]
  },
  {
   "cell_type": "code",
   "execution_count": 255,
   "id": "8e34a636-2b56-47d4-8f89-47e21e85d4ea",
   "metadata": {},
   "outputs": [
    {
     "name": "stderr",
     "output_type": "stream",
     "text": [
      "C:\\Users\\imary\\AppData\\Local\\Temp\\ipykernel_35760\\2785660372.py:3: DeprecationWarning: DataFrameGroupBy.apply operated on the grouping columns. This behavior is deprecated, and in a future version of pandas the grouping columns will be excluded from the operation. Either pass `include_groups=False` to exclude the groupings or explicitly select the grouping columns after groupby to silence this warning.\n",
      "  grouped_ratings = grouped_ratings.groupby('movieId').apply(movie_rating)\n"
     ]
    },
    {
     "data": {
      "text/plain": [
       "movieId\n",
       "1    3.872470\n",
       "2    3.401869\n",
       "3    3.161017\n",
       "4    2.384615\n",
       "5    3.267857\n",
       "dtype: float64"
      ]
     },
     "execution_count": 255,
     "metadata": {},
     "output_type": "execute_result"
    }
   ],
   "source": [
    "grouped_ratings = ratings.copy() # создадим копию таблицы Рейтинга\n",
    "# Сгруппируем оценки по movieId и вычислим для каждого среднюю оценку\n",
    "grouped_ratings = grouped_ratings.groupby('movieId').apply(movie_rating)\n",
    "grouped_ratings.head()"
   ]
  },
  {
   "cell_type": "code",
   "execution_count": 256,
   "id": "15ceb55d-4a3b-4015-a53a-44a6f4c24e96",
   "metadata": {},
   "outputs": [
    {
     "data": {
      "text/html": [
       "<div>\n",
       "<style scoped>\n",
       "    .dataframe tbody tr th:only-of-type {\n",
       "        vertical-align: middle;\n",
       "    }\n",
       "\n",
       "    .dataframe tbody tr th {\n",
       "        vertical-align: top;\n",
       "    }\n",
       "\n",
       "    .dataframe thead th {\n",
       "        text-align: right;\n",
       "    }\n",
       "</style>\n",
       "<table border=\"1\" class=\"dataframe\">\n",
       "  <thead>\n",
       "    <tr style=\"text-align: right;\">\n",
       "      <th></th>\n",
       "      <th>movieId</th>\n",
       "      <th>title</th>\n",
       "      <th>genres</th>\n",
       "    </tr>\n",
       "  </thead>\n",
       "  <tbody>\n",
       "    <tr>\n",
       "      <th>0</th>\n",
       "      <td>1</td>\n",
       "      <td>Toy Story (1995)</td>\n",
       "      <td>Adventure|Animation|Children|Comedy|Fantasy</td>\n",
       "    </tr>\n",
       "    <tr>\n",
       "      <th>1</th>\n",
       "      <td>2</td>\n",
       "      <td>Jumanji (1995)</td>\n",
       "      <td>Adventure|Children|Fantasy</td>\n",
       "    </tr>\n",
       "    <tr>\n",
       "      <th>2</th>\n",
       "      <td>3</td>\n",
       "      <td>Grumpier Old Men (1995)</td>\n",
       "      <td>Comedy|Romance</td>\n",
       "    </tr>\n",
       "    <tr>\n",
       "      <th>3</th>\n",
       "      <td>4</td>\n",
       "      <td>Waiting to Exhale (1995)</td>\n",
       "      <td>Comedy|Drama|Romance</td>\n",
       "    </tr>\n",
       "    <tr>\n",
       "      <th>4</th>\n",
       "      <td>5</td>\n",
       "      <td>Father of the Bride Part II (1995)</td>\n",
       "      <td>Comedy</td>\n",
       "    </tr>\n",
       "  </tbody>\n",
       "</table>\n",
       "</div>"
      ],
      "text/plain": [
       "   movieId                               title  \\\n",
       "0        1                    Toy Story (1995)   \n",
       "1        2                      Jumanji (1995)   \n",
       "2        3             Grumpier Old Men (1995)   \n",
       "3        4            Waiting to Exhale (1995)   \n",
       "4        5  Father of the Bride Part II (1995)   \n",
       "\n",
       "                                        genres  \n",
       "0  Adventure|Animation|Children|Comedy|Fantasy  \n",
       "1                   Adventure|Children|Fantasy  \n",
       "2                               Comedy|Romance  \n",
       "3                         Comedy|Drama|Romance  \n",
       "4                                       Comedy  "
      ]
     },
     "execution_count": 256,
     "metadata": {},
     "output_type": "execute_result"
    }
   ],
   "source": [
    "# Импортируем таблицу Фильмов\n",
    "movies = pd.read_csv('data/DZ9/movies.csv')\n",
    "movies.head()"
   ]
  },
  {
   "cell_type": "code",
   "execution_count": 257,
   "id": "04210e3b-bb02-4888-8299-3d6d9aad6006",
   "metadata": {},
   "outputs": [],
   "source": [
    "def adding_class(df, gr):\n",
    "    \"\"\"Добавляет каждой строке столбец class, в котором фильму присваивается рейтинг\"\"\"\n",
    "    # в списке фильмов могут находится фильмы без оценок\n",
    "    try:\n",
    "        movie_rate = gr[df['movieId']]\n",
    "    except KeyError:\n",
    "        movie_rate = 0\n",
    "    # в зависимости от средней оценки каждый фильм получает словесный рейтинг\n",
    "    if movie_rate == 0:\n",
    "        movie_class = 'Рейтинг отсутствует'\n",
    "    elif movie_rate <= 2:\n",
    "        movie_class = 'Низкий рейтинг'\n",
    "    elif movie_rate <= 4:\n",
    "        movie_class = 'Средний рейтинг'\n",
    "    elif movie_rate <= 5:\n",
    "        movie_class = 'Высокий рейтинг'   \n",
    "    # словесные рейтинги записываются в новый столбец class\n",
    "    df['class'] = movie_class\n",
    "    return df"
   ]
  },
  {
   "cell_type": "code",
   "execution_count": 258,
   "id": "9127de2c-ef35-4292-ba7c-335554103485",
   "metadata": {},
   "outputs": [
    {
     "data": {
      "text/html": [
       "<div>\n",
       "<style scoped>\n",
       "    .dataframe tbody tr th:only-of-type {\n",
       "        vertical-align: middle;\n",
       "    }\n",
       "\n",
       "    .dataframe tbody tr th {\n",
       "        vertical-align: top;\n",
       "    }\n",
       "\n",
       "    .dataframe thead th {\n",
       "        text-align: right;\n",
       "    }\n",
       "</style>\n",
       "<table border=\"1\" class=\"dataframe\">\n",
       "  <thead>\n",
       "    <tr style=\"text-align: right;\">\n",
       "      <th></th>\n",
       "      <th>movieId</th>\n",
       "      <th>title</th>\n",
       "      <th>genres</th>\n",
       "      <th>class</th>\n",
       "    </tr>\n",
       "  </thead>\n",
       "  <tbody>\n",
       "    <tr>\n",
       "      <th>0</th>\n",
       "      <td>1</td>\n",
       "      <td>Toy Story (1995)</td>\n",
       "      <td>Adventure|Animation|Children|Comedy|Fantasy</td>\n",
       "      <td>Средний рейтинг</td>\n",
       "    </tr>\n",
       "    <tr>\n",
       "      <th>1</th>\n",
       "      <td>2</td>\n",
       "      <td>Jumanji (1995)</td>\n",
       "      <td>Adventure|Children|Fantasy</td>\n",
       "      <td>Средний рейтинг</td>\n",
       "    </tr>\n",
       "    <tr>\n",
       "      <th>2</th>\n",
       "      <td>3</td>\n",
       "      <td>Grumpier Old Men (1995)</td>\n",
       "      <td>Comedy|Romance</td>\n",
       "      <td>Средний рейтинг</td>\n",
       "    </tr>\n",
       "    <tr>\n",
       "      <th>3</th>\n",
       "      <td>4</td>\n",
       "      <td>Waiting to Exhale (1995)</td>\n",
       "      <td>Comedy|Drama|Romance</td>\n",
       "      <td>Средний рейтинг</td>\n",
       "    </tr>\n",
       "    <tr>\n",
       "      <th>4</th>\n",
       "      <td>5</td>\n",
       "      <td>Father of the Bride Part II (1995)</td>\n",
       "      <td>Comedy</td>\n",
       "      <td>Средний рейтинг</td>\n",
       "    </tr>\n",
       "  </tbody>\n",
       "</table>\n",
       "</div>"
      ],
      "text/plain": [
       "   movieId                               title  \\\n",
       "0        1                    Toy Story (1995)   \n",
       "1        2                      Jumanji (1995)   \n",
       "2        3             Grumpier Old Men (1995)   \n",
       "3        4            Waiting to Exhale (1995)   \n",
       "4        5  Father of the Bride Part II (1995)   \n",
       "\n",
       "                                        genres            class  \n",
       "0  Adventure|Animation|Children|Comedy|Fantasy  Средний рейтинг  \n",
       "1                   Adventure|Children|Fantasy  Средний рейтинг  \n",
       "2                               Comedy|Romance  Средний рейтинг  \n",
       "3                         Comedy|Drama|Romance  Средний рейтинг  \n",
       "4                                       Comedy  Средний рейтинг  "
      ]
     },
     "execution_count": 258,
     "metadata": {},
     "output_type": "execute_result"
    }
   ],
   "source": [
    "# Применим функцию классификатора к таблице построчно\n",
    "movies = movies.apply(adding_class, gr=grouped_ratings, axis=1)\n",
    "movies.head()"
   ]
  },
  {
   "cell_type": "code",
   "execution_count": 263,
   "id": "8f698ff0-b58d-40c4-a792-5d0fe0424f6f",
   "metadata": {},
   "outputs": [],
   "source": [
    "# Экспортируем составленную таблицу в новый csv-файл\n",
    "movies.to_csv('data/DZ9/classified_movies.csv')"
   ]
  },
  {
   "cell_type": "markdown",
   "id": "d485f17c-1bd5-4b07-aa09-d8da3d38c1c7",
   "metadata": {},
   "source": [
    "## Задание 2\n",
    "Используйте файл keywords.csv.\n",
    "\n",
    "Нужно написать гео-классификатор, который каждой строке сможет выставить географическую при надлежность определённому региону. Т. е. если поисковый запрос содержит название города региона, то в столбце ‘region’ пишется название этого региона. Если поисковый запрос не содержит названия города, то ставим ‘undefined’.\n",
    "\n",
    "\r\n",
    "Правила распределения по регионам Центр, Северо-Запад и Дальний Восток:"
   ]
  },
  {
   "cell_type": "code",
   "execution_count": 269,
   "id": "1d557238-9889-4e95-a490-10e7824ce0dc",
   "metadata": {},
   "outputs": [],
   "source": [
    "geo_data = {\n",
    "    'Центр': ['москва', 'тула', 'ярославль'],\n",
    "    'Северо-Запад': ['петербург', 'псков', 'мурманск'],\n",
    "    'Дальний Восток': ['владивосток', 'сахалин', 'хабаровск']\n",
    "}"
   ]
  },
  {
   "cell_type": "markdown",
   "id": "ea30522b-8f99-4b3d-a829-9a16e0a89bcc",
   "metadata": {},
   "source": [
    "Результат классификации запишите в отдельный столбец region."
   ]
  },
  {
   "cell_type": "code",
   "execution_count": 294,
   "id": "89c5fa6f-ba76-403d-a53b-b2f3a850b5de",
   "metadata": {},
   "outputs": [
    {
     "data": {
      "text/html": [
       "<div>\n",
       "<style scoped>\n",
       "    .dataframe tbody tr th:only-of-type {\n",
       "        vertical-align: middle;\n",
       "    }\n",
       "\n",
       "    .dataframe tbody tr th {\n",
       "        vertical-align: top;\n",
       "    }\n",
       "\n",
       "    .dataframe thead th {\n",
       "        text-align: right;\n",
       "    }\n",
       "</style>\n",
       "<table border=\"1\" class=\"dataframe\">\n",
       "  <thead>\n",
       "    <tr style=\"text-align: right;\">\n",
       "      <th></th>\n",
       "      <th>keyword</th>\n",
       "      <th>shows</th>\n",
       "    </tr>\n",
       "  </thead>\n",
       "  <tbody>\n",
       "    <tr>\n",
       "      <th>0</th>\n",
       "      <td>вк</td>\n",
       "      <td>64292779</td>\n",
       "    </tr>\n",
       "    <tr>\n",
       "      <th>1</th>\n",
       "      <td>одноклассники</td>\n",
       "      <td>63810309</td>\n",
       "    </tr>\n",
       "    <tr>\n",
       "      <th>2</th>\n",
       "      <td>порно</td>\n",
       "      <td>41747114</td>\n",
       "    </tr>\n",
       "    <tr>\n",
       "      <th>3</th>\n",
       "      <td>ютуб</td>\n",
       "      <td>39995567</td>\n",
       "    </tr>\n",
       "    <tr>\n",
       "      <th>4</th>\n",
       "      <td>вконтакте</td>\n",
       "      <td>21014195</td>\n",
       "    </tr>\n",
       "  </tbody>\n",
       "</table>\n",
       "</div>"
      ],
      "text/plain": [
       "         keyword     shows\n",
       "0             вк  64292779\n",
       "1  одноклассники  63810309\n",
       "2          порно  41747114\n",
       "3           ютуб  39995567\n",
       "4      вконтакте  21014195"
      ]
     },
     "execution_count": 294,
     "metadata": {},
     "output_type": "execute_result"
    }
   ],
   "source": [
    "# Импортируем таблицу Рейтинга\n",
    "keywords = pd.read_csv('data/DZ9/keywords.csv')\n",
    "keywords.head()"
   ]
  },
  {
   "cell_type": "code",
   "execution_count": 338,
   "id": "aa5ad9bf-6179-4b1c-8558-b76dcfaba5e9",
   "metadata": {},
   "outputs": [],
   "source": [
    "def geo_classificator(df, geo_data):\n",
    "    \"\"\"Добавляет каждой строке столбец region, в котором запросу присваивается геопринадлежность\"\"\"\n",
    "    # разбиваем запрос на слова, понижаем регистр\n",
    "    words = df['keyword'].lower().split(' ')\n",
    "    # среди слов ищем названия городов, поддающихся классификации\n",
    "    for word in words:\n",
    "        for key in geo_data.keys():\n",
    "            if word in geo_data[key]:\n",
    "                region = key\n",
    "            else:\n",
    "                region = 'undefined'\n",
    "    # названия регионов записываются в новый столбец region\n",
    "    df['region'] = region\n",
    "    return df"
   ]
  },
  {
   "cell_type": "code",
   "execution_count": 340,
   "id": "0e2cf634-a2e9-467b-ae72-41ca92c215f2",
   "metadata": {},
   "outputs": [
    {
     "data": {
      "text/html": [
       "<div>\n",
       "<style scoped>\n",
       "    .dataframe tbody tr th:only-of-type {\n",
       "        vertical-align: middle;\n",
       "    }\n",
       "\n",
       "    .dataframe tbody tr th {\n",
       "        vertical-align: top;\n",
       "    }\n",
       "\n",
       "    .dataframe thead th {\n",
       "        text-align: right;\n",
       "    }\n",
       "</style>\n",
       "<table border=\"1\" class=\"dataframe\">\n",
       "  <thead>\n",
       "    <tr style=\"text-align: right;\">\n",
       "      <th></th>\n",
       "      <th>keyword</th>\n",
       "      <th>shows</th>\n",
       "      <th>region</th>\n",
       "    </tr>\n",
       "  </thead>\n",
       "  <tbody>\n",
       "    <tr>\n",
       "      <th>0</th>\n",
       "      <td>вк</td>\n",
       "      <td>64292779</td>\n",
       "      <td>undefined</td>\n",
       "    </tr>\n",
       "    <tr>\n",
       "      <th>1</th>\n",
       "      <td>одноклассники</td>\n",
       "      <td>63810309</td>\n",
       "      <td>undefined</td>\n",
       "    </tr>\n",
       "    <tr>\n",
       "      <th>2</th>\n",
       "      <td>порно</td>\n",
       "      <td>41747114</td>\n",
       "      <td>undefined</td>\n",
       "    </tr>\n",
       "    <tr>\n",
       "      <th>3</th>\n",
       "      <td>ютуб</td>\n",
       "      <td>39995567</td>\n",
       "      <td>undefined</td>\n",
       "    </tr>\n",
       "    <tr>\n",
       "      <th>4</th>\n",
       "      <td>вконтакте</td>\n",
       "      <td>21014195</td>\n",
       "      <td>undefined</td>\n",
       "    </tr>\n",
       "  </tbody>\n",
       "</table>\n",
       "</div>"
      ],
      "text/plain": [
       "         keyword     shows     region\n",
       "0             вк  64292779  undefined\n",
       "1  одноклассники  63810309  undefined\n",
       "2          порно  41747114  undefined\n",
       "3           ютуб  39995567  undefined\n",
       "4      вконтакте  21014195  undefined"
      ]
     },
     "execution_count": 340,
     "metadata": {},
     "output_type": "execute_result"
    }
   ],
   "source": [
    "# Применим гео-классификатор к таблице Поисковых запросов\n",
    "keywords = keywords.apply(geo_classificator, geo_data=geo_data, axis=1)\n",
    "keywords.head()"
   ]
  },
  {
   "cell_type": "code",
   "execution_count": 342,
   "id": "bcefd4cb-494e-435b-a60d-6b061f4f79dc",
   "metadata": {},
   "outputs": [],
   "source": [
    "# Экспортируем составленную таблицу в новый csv-файл\n",
    "keywords.to_csv('data/DZ9/geo_classified_keywords.csv')"
   ]
  }
 ],
 "metadata": {
  "kernelspec": {
   "display_name": "Python 3 (ipykernel)",
   "language": "python",
   "name": "python3"
  },
  "language_info": {
   "codemirror_mode": {
    "name": "ipython",
    "version": 3
   },
   "file_extension": ".py",
   "mimetype": "text/x-python",
   "name": "python",
   "nbconvert_exporter": "python",
   "pygments_lexer": "ipython3",
   "version": "3.12.4"
  }
 },
 "nbformat": 4,
 "nbformat_minor": 5
}
