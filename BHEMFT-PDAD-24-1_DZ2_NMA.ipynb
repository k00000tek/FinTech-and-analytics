{
 "cells": [
  {
   "cell_type": "markdown",
   "id": "65ffe4bb-67a8-42b4-b613-304931372c12",
   "metadata": {},
   "source": [
    "## Домашнее задание 2. Функции"
   ]
  },
  {
   "cell_type": "markdown",
   "id": "95dfa814-b45c-44c4-8772-db831b5b4d5c",
   "metadata": {},
   "source": [
    "Вам нужно помочь секретарю автоматизировать работу. Для этого нужно написать программу, которая будет на основе хранимых данных исполнять пользовательские команды.\n",
    "## Задание 1\n",
    "Пользователь по команде «p» может узнать владельца документа по его номеру.\n",
    "## Задание 2\n",
    "Секретарь по команде «s» может по номеру документа узнать, на какой полке документ хранится.\n",
    "## Исходные данные"
   ]
  },
  {
   "cell_type": "code",
   "execution_count": 180,
   "id": "d3cdf3d2-e659-472e-86bf-e253f953520f",
   "metadata": {},
   "outputs": [],
   "source": [
    "# Перечень всех документов\n",
    "documents = [\n",
    "{'type': 'passport', 'number': '2207 876234', 'name': 'Василий Гупкин'},\n",
    "{'type': 'invoice', 'number': '11-2', 'name': 'Геннадий Покемонов'},\n",
    "{'type': 'insurance', 'number': '10006', 'name': 'Аристарх Павлов'}\n",
    "]"
   ]
  },
  {
   "cell_type": "code",
   "execution_count": 184,
   "id": "11bd880b-8f8b-4d69-a880-604d23ec80f0",
   "metadata": {},
   "outputs": [],
   "source": [
    "# Перечень полок, на которых хранятся документы\n",
    "directories = {\n",
    "'1': ['2207 876234', '11-2'],\n",
    "'2': ['10006'],\n",
    "'3': []\n",
    "}"
   ]
  },
  {
   "cell_type": "markdown",
   "id": "b3fdd08d-647c-4404-ab9b-e9d31320f079",
   "metadata": {},
   "source": [
    "## Функции"
   ]
  },
  {
   "cell_type": "code",
   "execution_count": 186,
   "id": "a8590196-9af2-4c86-a70d-5ab4ac6950ee",
   "metadata": {},
   "outputs": [],
   "source": [
    "def get_number():\n",
    "    \"\"\"\n",
    "    Запрашивает у пользователя номер документа и вовзвращает его.\n",
    "    \"\"\"\n",
    "    print('Введите номер документа:')\n",
    "    return input()"
   ]
  },
  {
   "cell_type": "code",
   "execution_count": 188,
   "id": "348d7744-73de-471c-a259-23244aa0a95c",
   "metadata": {},
   "outputs": [],
   "source": [
    "def get_name_by_number():\n",
    "    \"\"\"\n",
    "    Возвращает владельца документа по номеру документа.\n",
    "    \"\"\"\n",
    "    number = get_number() # получаем номер документа\n",
    "    # проверяем наличие документа с заданным номером в перечне документов\n",
    "    for document in documents:\n",
    "        if number == document['number']: # если документ найден\n",
    "            return document['name'] # возвращаем имя владельца\n",
    "    return 'владелец не найден' "
   ]
  },
  {
   "cell_type": "code",
   "execution_count": 190,
   "id": "0d23bd59-677e-47e1-8717-1c834e42a61b",
   "metadata": {},
   "outputs": [],
   "source": [
    "def get_shelf_by_number():\n",
    "    \"\"\"\n",
    "    Возвращает полку, на который хранится документ по номеру документа.\n",
    "    \"\"\"\n",
    "    number = get_number() # получаем номер документа\n",
    "    # проверяем наличие документа с заданным номером в перечне полок\n",
    "    for directory, numbers in directories.items():\n",
    "        if number in numbers: # если докумен найден\n",
    "            return directory # возвращаем номер полки\n",
    "    return 'документ не найден'"
   ]
  },
  {
   "cell_type": "markdown",
   "id": "ba0413b2-8abc-4f21-a7c7-1abeee8bdf22",
   "metadata": {},
   "source": [
    "## Основная программа"
   ]
  },
  {
   "cell_type": "code",
   "execution_count": 200,
   "id": "5fbd02f0-c23e-46d9-ba55-8babd753d18a",
   "metadata": {},
   "outputs": [
    {
     "name": "stdout",
     "output_type": "stream",
     "text": [
      "Введите команду:\n"
     ]
    },
    {
     "name": "stdin",
     "output_type": "stream",
     "text": [
      " p\n"
     ]
    },
    {
     "name": "stdout",
     "output_type": "stream",
     "text": [
      "Введите номер документа:\n"
     ]
    },
    {
     "name": "stdin",
     "output_type": "stream",
     "text": [
      " 10006\n"
     ]
    },
    {
     "name": "stdout",
     "output_type": "stream",
     "text": [
      "Владелец документа: Аристарх Павлов\n",
      "Введите команду:\n"
     ]
    },
    {
     "name": "stdin",
     "output_type": "stream",
     "text": [
      " 1001\n"
     ]
    },
    {
     "name": "stdout",
     "output_type": "stream",
     "text": [
      "Введите команду:\n"
     ]
    },
    {
     "name": "stdin",
     "output_type": "stream",
     "text": [
      " s\n"
     ]
    },
    {
     "name": "stdout",
     "output_type": "stream",
     "text": [
      "Введите номер документа:\n"
     ]
    },
    {
     "name": "stdin",
     "output_type": "stream",
     "text": [
      " 10006\n"
     ]
    },
    {
     "name": "stdout",
     "output_type": "stream",
     "text": [
      "Документ хранится на полке: 2\n",
      "Введите команду:\n"
     ]
    },
    {
     "name": "stdin",
     "output_type": "stream",
     "text": [
      " s\n"
     ]
    },
    {
     "name": "stdout",
     "output_type": "stream",
     "text": [
      "Введите номер документа:\n"
     ]
    },
    {
     "name": "stdin",
     "output_type": "stream",
     "text": [
      " 1001\n"
     ]
    },
    {
     "name": "stdout",
     "output_type": "stream",
     "text": [
      "Документ хранится на полке: документ не найден\n",
      "Введите команду:\n"
     ]
    },
    {
     "name": "stdin",
     "output_type": "stream",
     "text": [
      " e\n"
     ]
    },
    {
     "name": "stdout",
     "output_type": "stream",
     "text": [
      "Введите команду:\n"
     ]
    },
    {
     "name": "stdin",
     "output_type": "stream",
     "text": [
      " q\n"
     ]
    }
   ],
   "source": [
    "while(1):\n",
    "    # Ожидаем ввод пользовательской команды\n",
    "    print('Введите команду:')\n",
    "    command = input()\n",
    "    # Список определенных команд\n",
    "    if command == 'p': # команда определения владельца документа\n",
    "        print('Владелец документа: ' + get_name_by_number())\n",
    "    elif command == 's': # команда определения полки, на которой хранится документ\n",
    "        print('Документ хранится на полке: ' + get_shelf_by_number())\n",
    "    elif command == 'q': # команда завершения программы\n",
    "       break\n",
    "    else: # иначе ожидаем ввод одной из определенных команд\n",
    "        continue"
   ]
  }
 ],
 "metadata": {
  "kernelspec": {
   "display_name": "Python 3 (ipykernel)",
   "language": "python",
   "name": "python3"
  },
  "language_info": {
   "codemirror_mode": {
    "name": "ipython",
    "version": 3
   },
   "file_extension": ".py",
   "mimetype": "text/x-python",
   "name": "python",
   "nbconvert_exporter": "python",
   "pygments_lexer": "ipython3",
   "version": "3.12.4"
  }
 },
 "nbformat": 4,
 "nbformat_minor": 5
}
