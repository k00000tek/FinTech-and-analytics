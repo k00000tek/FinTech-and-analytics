{
 "cells": [
  {
   "cell_type": "code",
   "execution_count": null,
   "id": "f9e356c8-8805-49c6-a175-427e22c30287",
   "metadata": {},
   "outputs": [],
   "source": [
    "222"
   ]
  }
 ],
 "metadata": {
  "kernelspec": {
   "display_name": "Python 3 (ipykernel)",
   "language": "python",
   "name": "python3"
  },
  "language_info": {
   "codemirror_mode": {
    "name": "ipython",
    "version": 3
   },
   "file_extension": ".py",
   "mimetype": "text/x-python",
   "name": "python",
   "nbconvert_exporter": "python",
   "pygments_lexer": "ipython3",
   "version": "3.12.4"
  }
 },
 "nbformat": 4,
 "nbformat_minor": 5
}
