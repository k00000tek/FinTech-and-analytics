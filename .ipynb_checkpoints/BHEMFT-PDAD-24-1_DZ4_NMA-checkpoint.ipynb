{
 "cells": [
  {
   "cell_type": "markdown",
   "id": "4b1769cb-1bce-4dcb-820d-504b5a79187a",
   "metadata": {},
   "source": [
    "## Домашнее задание 4. Работа с файловой системой"
   ]
  },
  {
   "cell_type": "markdown",
   "id": "842ae490-90f0-4f38-992e-b325b252aa0a",
   "metadata": {},
   "source": [
    "## Задание 1\n",
    "Переведите содержимое файла purchase_log.txt в словарь purchases вида:{‘1840e0b9d4’: ‘Продукты’, …}"
   ]
  },
  {
   "cell_type": "code",
   "execution_count": 1,
   "id": "bf41d576-e736-457c-990a-6b2940910846",
   "metadata": {},
   "outputs": [],
   "source": [
    "import json"
   ]
  },
  {
   "cell_type": "code",
   "execution_count": 3,
   "id": "56d699b8-cef5-499d-9edd-d35343109996",
   "metadata": {},
   "outputs": [],
   "source": [
    "f = open('data/purchase_log.txt', encoding = 'utf-8')\n",
    "f_purchase_log = f.readlines() # открываем файл для чтения и загружаем его в оперативную память\n",
    "f.close()"
   ]
  },
  {
   "cell_type": "code",
   "execution_count": 4,
   "id": "ed8b5954-c424-4f17-8906-4e2151f39c77",
   "metadata": {},
   "outputs": [],
   "source": [
    "purchases = {} # создаем пустой словарь\n",
    "# поэлментно из списка строк f_purchase_log формируем новые пары ключ:значение\n",
    "for line in f_purchase_log:\n",
    "    dict_ = json.loads(line)\n",
    "    purchases.setdefault(dict_['user_id'], dict_['category'])\n",
    "del(purchases['user_id']) # удаляем пару ключ:значение с заголовком"
   ]
  },
  {
   "cell_type": "code",
   "execution_count": 6,
   "id": "37c4d08e-5f3f-481c-ba9b-c2ab5018b8f0",
   "metadata": {},
   "outputs": [
    {
     "name": "stdout",
     "output_type": "stream",
     "text": [
      "1840e0b9d4 Продукты\n",
      "4e4f90fcfb Электроника\n"
     ]
    }
   ],
   "source": [
    "for i, item in enumerate(purchases.items()):\n",
    "    print(item[0], item[1])\n",
    "    if i == 1: # выводим первые 2 элемента словаря purchases\n",
    "        break"
   ]
  },
  {
   "cell_type": "markdown",
   "id": "682c81d1-f067-4853-b139-4a18e50716fd",
   "metadata": {},
   "source": [
    "## Задание 2\n",
    "Для каждого user_id в файле visit_log.csv определите третий столбец с категорией покупки. Если покупка была, сам файл visit_log.csv изменять не надо.\n",
    "Запишите в файл funnel.csv визиты из файла visit_log.csv, в которых были покупки с указанием категории."
   ]
  },
  {
   "cell_type": "code",
   "execution_count": 10,
   "id": "1aa473ce-792f-495c-88ff-0e3a6cd46554",
   "metadata": {},
   "outputs": [],
   "source": [
    "with open('data/visit_log.csv') as f: # открываем файл visit_log.csv для построчного чтения\n",
    "    with open('data/funnel.csv', 'w') as f2w: # создаем файл funnel.csv для записи\n",
    "        f2w.write('user_id,source,category\\n') # записываем заголовок в файл funnel.csv\n",
    "        for line in f:\n",
    "            line = line.strip().split(',') # делаем из каждой строки список\n",
    "            category = purchases.get(line[0], 'Not Found') # по ключу user_id осуществляем поиск в словаре purchases\n",
    "            if category == 'Not Found':\n",
    "                # если такой user_id не встречается, переходим к следующему user_id\n",
    "                continue \n",
    "            else:\n",
    "                # если для такого user_id категория определена\n",
    "                line.append(category) # к списку [user_id, source] добавляем столбец category\n",
    "                f2w.write(','.join(line)+'\\n') # переходим от списка к строке, и записываем её в файл"
   ]
  },
  {
   "cell_type": "code",
   "execution_count": 12,
   "id": "f14bddcd-dec5-404e-b65a-741971ff20e4",
   "metadata": {},
   "outputs": [
    {
     "name": "stdout",
     "output_type": "stream",
     "text": [
      "user_id,source,category\n",
      "1840e0b9d4,other,Продукты\n",
      "4e4f90fcfb,context,Электроника\n"
     ]
    }
   ],
   "source": [
    "with open('data/funnel.csv') as f2r: # открываем созданный файл на чтение\n",
    "    for i, line in enumerate(f2r):\n",
    "        print(line.strip())\n",
    "        if i == 2: # выводим первые 3 строки\n",
    "            break"
   ]
  }
 ],
 "metadata": {
  "kernelspec": {
   "display_name": "Python 3 (ipykernel)",
   "language": "python",
   "name": "python3"
  },
  "language_info": {
   "codemirror_mode": {
    "name": "ipython",
    "version": 3
   },
   "file_extension": ".py",
   "mimetype": "text/x-python",
   "name": "python",
   "nbconvert_exporter": "python",
   "pygments_lexer": "ipython3",
   "version": "3.12.4"
  }
 },
 "nbformat": 4,
 "nbformat_minor": 5
}
