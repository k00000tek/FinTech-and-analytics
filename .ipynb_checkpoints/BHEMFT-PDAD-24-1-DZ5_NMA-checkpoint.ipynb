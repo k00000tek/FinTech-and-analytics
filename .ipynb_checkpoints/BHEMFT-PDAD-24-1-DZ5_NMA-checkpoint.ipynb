{
 "cells": [
  {
   "cell_type": "markdown",
   "id": "e3c7f89f-7fc3-4571-ac2f-dd9246f3c1ae",
   "metadata": {},
   "source": [
    "## Домашнее задание 5. Время и даты в Python"
   ]
  },
  {
   "cell_type": "markdown",
   "id": "cfa69148-4a73-45ab-b511-42d283039ad3",
   "metadata": {},
   "source": [
    "## Задание 1\n",
    "Печатные газеты использовали свой формат для каждого выпуска. Для каждой газеты из списка напишите формат указанной даты для перевода в объект datetime:\n",
    "* The Moscow Times — Wednesday, October 2, 2002\n",
    "* The Guardian — Friday, 11.10.13\n",
    "* Daily News — Thursday, 18 August 1977"
   ]
  },
  {
   "cell_type": "code",
   "execution_count": 30,
   "id": "1d09966e-87e6-4ec6-93a9-6ea9f9f1681e",
   "metadata": {},
   "outputs": [],
   "source": [
    "from datetime import datetime"
   ]
  },
  {
   "cell_type": "code",
   "execution_count": 32,
   "id": "42c6de81-2dee-456e-8deb-8d0defbe86e9",
   "metadata": {},
   "outputs": [],
   "source": [
    "newspapers_dates = {\n",
    "    'The Moscow Times': 'Wednesday, October 2, 2002', \n",
    "    'The Guardian': 'Friday, 11.10.13',\n",
    "    'Daily News': 'Thursday, 18 August 1977'\n",
    "}"
   ]
  },
  {
   "cell_type": "code",
   "execution_count": 34,
   "id": "3b589e87-7111-46c2-951f-177b61ff36fa",
   "metadata": {},
   "outputs": [
    {
     "name": "stdout",
     "output_type": "stream",
     "text": [
      "The Moscow Times - Wednesday, October 2, 2002\n",
      "2002-10-02 00:00:00 <class 'datetime.datetime'>\n"
     ]
    }
   ],
   "source": [
    "print('The Moscow Times -', newspapers_dates['The Moscow Times'])\n",
    "datetime_ = datetime.strptime(newspapers_dates['The Moscow Times'], '%A, %B %d, %Y')\n",
    "print(datetime_, type(datetime_))"
   ]
  },
  {
   "cell_type": "code",
   "execution_count": 36,
   "id": "290b04fb-8f74-4034-8d3f-827a6fd00384",
   "metadata": {},
   "outputs": [
    {
     "name": "stdout",
     "output_type": "stream",
     "text": [
      "The Guardian - Friday, 11.10.13\n",
      "2013-10-11 00:00:00 <class 'datetime.datetime'>\n"
     ]
    }
   ],
   "source": [
    "print('The Guardian -', newspapers_dates['The Guardian'])\n",
    "datetime_ = datetime.strptime(newspapers_dates['The Guardian'], '%A, %d.%m.%y')\n",
    "print(datetime_, type(datetime_))"
   ]
  },
  {
   "cell_type": "code",
   "execution_count": 38,
   "id": "7929d75e-389b-4def-9efd-167bbc8509c4",
   "metadata": {},
   "outputs": [
    {
     "name": "stdout",
     "output_type": "stream",
     "text": [
      "Daily News - Thursday, 18 August 1977\n",
      "1977-08-18 00:00:00 <class 'datetime.datetime'>\n"
     ]
    }
   ],
   "source": [
    "print('Daily News -', newspapers_dates['Daily News'])\n",
    "datetime_ = datetime.strptime(newspapers_dates['Daily News'], '%A, %d %B %Y')\n",
    "print(datetime_, type(datetime_))"
   ]
  },
  {
   "cell_type": "markdown",
   "id": "b50f842f-9840-4c70-ab6b-bc31a75250bb",
   "metadata": {},
   "source": [
    "## Задание 2\n",
    "Напишите функцию date_range, которая возвращает список дат за период от start_date до end_date. Даты должны вводиться в формате yyyy-mm-dd. В случае неверного формата или при start_date > end_date должен возвращаться пустой список."
   ]
  },
  {
   "cell_type": "code",
   "execution_count": 41,
   "id": "a3dbc170-f2c7-436a-b6e7-d9ca60874fe3",
   "metadata": {},
   "outputs": [],
   "source": [
    "from datetime import timedelta"
   ]
  },
  {
   "cell_type": "code",
   "execution_count": 51,
   "id": "6e508ce0-e000-46cd-9e8f-5a9c76df1c0e",
   "metadata": {},
   "outputs": [],
   "source": [
    "def date_range(start_date, end_date):\n",
    "    date_list = []\n",
    "    try:\n",
    "        current_datetime = datetime.strptime(start_date, '%Y-%m-%d')\n",
    "        datetime.strptime(end_date, '%Y-%m-%d')\n",
    "    except ValueError:\n",
    "        return date_list\n",
    "    while (current_datetime.strftime('%Y-%m-%d') <= end_date):\n",
    "        date_list.append(current_datetime.strftime('%Y-%m-%d'))\n",
    "        current_datetime += timedelta(days = 1)\n",
    "    return date_list"
   ]
  },
  {
   "cell_type": "code",
   "execution_count": 53,
   "id": "9b9da31d-2444-452e-b279-8f23701bf426",
   "metadata": {},
   "outputs": [
    {
     "data": {
      "text/plain": [
       "['2022-01-01', '2022-01-02', '2022-01-03']"
      ]
     },
     "execution_count": 53,
     "metadata": {},
     "output_type": "execute_result"
    }
   ],
   "source": [
    "date_range('2022-01-01', '2022-01-03')"
   ]
  },
  {
   "cell_type": "code",
   "execution_count": 55,
   "id": "1d8a23e4-0ee6-421d-be99-47cabc03aaaf",
   "metadata": {},
   "outputs": [
    {
     "data": {
      "text/plain": [
       "[]"
      ]
     },
     "execution_count": 55,
     "metadata": {},
     "output_type": "execute_result"
    }
   ],
   "source": [
    "date_range('2022-01-03', '2022-01-01')"
   ]
  },
  {
   "cell_type": "code",
   "execution_count": 57,
   "id": "c69eb847-2bb8-40b9-b51e-e5eb8b7cb5c0",
   "metadata": {},
   "outputs": [
    {
     "data": {
      "text/plain": [
       "[]"
      ]
     },
     "execution_count": 57,
     "metadata": {},
     "output_type": "execute_result"
    }
   ],
   "source": [
    "date_range('2022-02-30', '2022-02-31')"
   ]
  }
 ],
 "metadata": {
  "kernelspec": {
   "display_name": "Python 3 (ipykernel)",
   "language": "python",
   "name": "python3"
  },
  "language_info": {
   "codemirror_mode": {
    "name": "ipython",
    "version": 3
   },
   "file_extension": ".py",
   "mimetype": "text/x-python",
   "name": "python",
   "nbconvert_exporter": "python",
   "pygments_lexer": "ipython3",
   "version": "3.12.4"
  }
 },
 "nbformat": 4,
 "nbformat_minor": 5
}
