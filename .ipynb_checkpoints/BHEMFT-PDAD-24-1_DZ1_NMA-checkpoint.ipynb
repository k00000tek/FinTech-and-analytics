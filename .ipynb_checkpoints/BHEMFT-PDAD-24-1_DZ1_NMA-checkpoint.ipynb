{
 "cells": [
  {
   "cell_type": "markdown",
   "id": "60da85f1-513a-4c57-b0b0-09e6c708fe97",
   "metadata": {},
   "source": [
    "## Домашнее задание 1. Управляющие конструкции и коллекции, часть 2"
   ]
  },
  {
   "cell_type": "markdown",
   "id": "d4f3064c-905e-4f43-8d2c-896afd20c767",
   "metadata": {},
   "source": [
    "## Задание 1\n",
    "Дана переменная, в которой хранится словарь, содержащий геометки для каждого пользователя (пример структуры данных приведён ниже). Вам нужно написать программу, которая выведет на экран множество уникальных геометок всех пользователей."
   ]
  },
  {
   "cell_type": "code",
   "execution_count": 1,
   "id": "fc4c062b-8f8c-4c4c-abe3-192b0919c8ca",
   "metadata": {},
   "outputs": [],
   "source": [
    "ids = {\n",
    "    'user1': [213, 213, 213, 15, 213],\n",
    "    'user2': [54, 54, 119, 119, 119],\n",
    "    'user3': [213, 98, 98, 35]\n",
    "}"
   ]
  },
  {
   "cell_type": "code",
   "execution_count": 3,
   "id": "ed14751a-2c79-41ae-9e98-05e821340f58",
   "metadata": {},
   "outputs": [
    {
     "data": {
      "text/plain": [
       "{15, 35, 54, 98, 119, 213}"
      ]
     },
     "execution_count": 3,
     "metadata": {},
     "output_type": "execute_result"
    }
   ],
   "source": [
    "unique_geo = set([])\n",
    "for geo in ids.values():\n",
    "    unique_geo.update(set(geo))\n",
    "unique_geo"
   ]
  },
  {
   "cell_type": "markdown",
   "id": "02c1d138-cbf0-4646-bc5f-eb879a30f907",
   "metadata": {},
   "source": [
    "## Задание 2\n",
    "Дана переменная, в которой хранится список поисковых запросов пользователя (пример структуры данных приведён ниже). Вам нужно написать программу, которая выведет на экран распределение количества слов в запросах в требуемом виде."
   ]
  },
  {
   "cell_type": "code",
   "execution_count": 6,
   "id": "2b767cf7-4fb3-4588-875d-c6eeec2e6b6d",
   "metadata": {},
   "outputs": [],
   "source": [
    "queries = [\n",
    "    'смотреть сериалы онлайн',\n",
    "    'новости спорта',\n",
    "    'афиша кино',\n",
    "    'курс доллара',\n",
    "    'сериалы этим летом',\n",
    "    'курс по питону',\n",
    "    'сериалы про спорт',\n",
    "]"
   ]
  },
  {
   "cell_type": "code",
   "execution_count": 8,
   "id": "60d6f821-945a-4dc8-bece-44eac33ff0b4",
   "metadata": {},
   "outputs": [],
   "source": [
    "word_count = []\n",
    "for query in queries:\n",
    "    word_count.append(len(query.split(' ')))"
   ]
  },
  {
   "cell_type": "code",
   "execution_count": 10,
   "id": "b29a6d6b-5df1-44f0-a2bf-d7858a9e4660",
   "metadata": {},
   "outputs": [
    {
     "name": "stdout",
     "output_type": "stream",
     "text": [
      "Поисковых запросов, содержащих 2 слов(а): 42.86%\n",
      "Поисковых запросов, содержащих 3 слов(а): 57.14%\n"
     ]
    }
   ],
   "source": [
    "for number in set(word_count):\n",
    "    percent = word_count.count(number) * 100 / len(word_count)\n",
    "    percent = round(percent, 2)\n",
    "    print(f'Поисковых запросов, содержащих {number} слов(а): {percent}%')"
   ]
  }
 ],
 "metadata": {
  "kernelspec": {
   "display_name": "Python 3 (ipykernel)",
   "language": "python",
   "name": "python3"
  },
  "language_info": {
   "codemirror_mode": {
    "name": "ipython",
    "version": 3
   },
   "file_extension": ".py",
   "mimetype": "text/x-python",
   "name": "python",
   "nbconvert_exporter": "python",
   "pygments_lexer": "ipython3",
   "version": "3.12.4"
  }
 },
 "nbformat": 4,
 "nbformat_minor": 5
}
