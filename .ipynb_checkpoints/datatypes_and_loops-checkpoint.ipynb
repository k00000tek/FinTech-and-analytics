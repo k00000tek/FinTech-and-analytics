{
 "cells": [
  {
   "cell_type": "markdown",
   "id": "83031305-a205-4bab-9884-2c3494ff6b01",
   "metadata": {},
   "source": [
    "# Задание 1"
   ]
  },
  {
   "cell_type": "markdown",
   "id": "b792806f-737c-4996-a65a-d7896dfb5ec4",
   "metadata": {},
   "source": [
    "Дана переменная, в которой хранится слово из латинских букв. Напишите код, который вывод на экран:\n",
    "* среднюю букву, если число букв в слове нечетное;\n",
    "* две средних буквы, если число букв четное."
   ]
  },
  {
   "cell_type": "code",
   "execution_count": 7,
   "id": "d3413f83-cbf0-48c4-b7bd-42dd4f9daf86",
   "metadata": {
    "scrolled": true
   },
   "outputs": [
    {
     "name": "stdin",
     "output_type": "stream",
     "text": [
      " test\n"
     ]
    },
    {
     "name": "stdout",
     "output_type": "stream",
     "text": [
      "es\n"
     ]
    }
   ],
   "source": [
    "word = input()\n",
    "word_lenth = len(word) \n",
    "\n",
    "if word_lenth % 2:\n",
    "    print(word[word_lenth // 2])\n",
    "else:\n",
    "    print(word[word_lenth // 2 - 1 : word_lenth // 2 + 1])"
   ]
  },
  {
   "cell_type": "markdown",
   "id": "fe4473ff-4c1c-4090-ba41-37e7eaede8fc",
   "metadata": {},
   "source": [
    "# Задание 2"
   ]
  },
  {
   "cell_type": "markdown",
   "id": "5b2dd3b6-7718-45fb-a8cb-fb599e41d9fe",
   "metadata": {},
   "source": [
    "Вы делаете MVP (минимально жизнеспособный продукт) dating-сервиса.\r\n",
    "У вас есть список юношей и девушек.\r\n",
    "Выдвигаем гипотезу: лучшие рекомендации получатся, если просто отсортировать имена по алфавиту и познакомить людей с одинаковыми индексами после сортировки. Но вы не будете никого знакомить, если кто-то может остаться без пары."
   ]
  },
  {
   "cell_type": "code",
   "execution_count": 13,
   "id": "247ce565-8e27-4bc5-9c61-f4d087511fc6",
   "metadata": {
    "scrolled": true
   },
   "outputs": [
    {
     "name": "stdin",
     "output_type": "stream",
     "text": [
      " Peter Alex John Arthur Richard\n",
      " Kate Liza Kira Emma Trisha\n"
     ]
    },
    {
     "name": "stdout",
     "output_type": "stream",
     "text": [
      "Идеальные пары:\n",
      "Alex и Emma\n",
      "Arthur и Kate\n",
      "John и Kira\n",
      "Peter и Liza\n",
      "Richard и Trisha\n"
     ]
    }
   ],
   "source": [
    "boys = [str(person) for person in input().split()]\n",
    "girls = [str(person) for person in input().split()]\n",
    "\n",
    "if len(boys) == len(girls):\n",
    "    boys.sort()\n",
    "    girls.sort()\n",
    "    print('Идеальные пары:')\n",
    "    for i in range(len(boys)):\n",
    "        print(boys[i], 'и', girls[i])"
   ]
  }
 ],
 "metadata": {
  "kernelspec": {
   "display_name": "Python 3 (ipykernel)",
   "language": "python",
   "name": "python3"
  },
  "language_info": {
   "codemirror_mode": {
    "name": "ipython",
    "version": 3
   },
   "file_extension": ".py",
   "mimetype": "text/x-python",
   "name": "python",
   "nbconvert_exporter": "python",
   "pygments_lexer": "ipython3",
   "version": "3.12.4"
  }
 },
 "nbformat": 4,
 "nbformat_minor": 5
}
