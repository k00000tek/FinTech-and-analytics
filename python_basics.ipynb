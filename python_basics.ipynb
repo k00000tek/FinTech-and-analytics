{
 "cells": [
  {
   "cell_type": "markdown",
   "id": "db385b16-c42a-4c9a-bc38-2f69afa2fbe1",
   "metadata": {},
   "source": [
    "# Задание 1 "
   ]
  },
  {
   "cell_type": "markdown",
   "id": "6de85e87-90fa-4501-836b-4972e4ab3e7c",
   "metadata": {},
   "source": [
    "Дана переменная, в которой хранится четырёхзначное число (год). Необходимо написать программу, которая выведет, является этот год високосным или обычным."
   ]
  },
  {
   "cell_type": "code",
   "execution_count": 1,
   "id": "008657e6-8647-443b-9c95-575f5698d25a",
   "metadata": {
    "scrolled": true
   },
   "outputs": [
    {
     "name": "stdin",
     "output_type": "stream",
     "text": [
      " 2020\n"
     ]
    },
    {
     "name": "stdout",
     "output_type": "stream",
     "text": [
      "Високосный год\n"
     ]
    }
   ],
   "source": [
    "year = int(input())\n",
    "\n",
    "leap_year = (\n",
    "    (\n",
    "        year % 4 == 0 and\n",
    "        year % 100 != 0\n",
    "    )\n",
    "    or year % 400 == 0\n",
    ")\n",
    "\n",
    "if leap_year:\n",
    "    print('Високосный год')\n",
    "else:\n",
    "    print('Обычный год')"
   ]
  },
  {
   "cell_type": "markdown",
   "id": "418705f3-5a7e-4d45-8dde-ffe2ad965952",
   "metadata": {},
   "source": [
    "# Задание 2"
   ]
  },
  {
   "cell_type": "markdown",
   "id": "8e235945-ec65-4dff-9208-c1b74dc1d63c",
   "metadata": {},
   "source": [
    "Дана переменная, в которой хранится шестизначное число (номер проездного билета). Напишите программу, которая будет определять, является ли этот билет счастливым. Билет считается счастливым, если сумма первых трёх цифр совпадает с суммой последних трёх цифр номера."
   ]
  },
  {
   "cell_type": "code",
   "execution_count": 3,
   "id": "366823c4-5fcc-4dcf-b9e6-449cc5e2cdad",
   "metadata": {},
   "outputs": [
    {
     "name": "stdin",
     "output_type": "stream",
     "text": [
      " 123321\n"
     ]
    },
    {
     "name": "stdout",
     "output_type": "stream",
     "text": [
      "Счастливый билет\n"
     ]
    }
   ],
   "source": [
    "number = input()\n",
    "\n",
    "happy_number = (\n",
    "    (int(number[0])+int(number[1])+int(number[2])) == (int(number[3])+int(number[4])+int(number[5]))\n",
    ")\n",
    "\n",
    "if happy_number:\n",
    "    print('Счастливый билет')\n",
    "else:\n",
    "    print('Несчастливый билет')"
   ]
  }
 ],
 "metadata": {
  "kernelspec": {
   "display_name": "Python 3 (ipykernel)",
   "language": "python",
   "name": "python3"
  },
  "language_info": {
   "codemirror_mode": {
    "name": "ipython",
    "version": 3
   },
   "file_extension": ".py",
   "mimetype": "text/x-python",
   "name": "python",
   "nbconvert_exporter": "python",
   "pygments_lexer": "ipython3",
   "version": "3.12.4"
  }
 },
 "nbformat": 4,
 "nbformat_minor": 5
}
