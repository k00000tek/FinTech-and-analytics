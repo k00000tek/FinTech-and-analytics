{
 "cells": [
  {
   "cell_type": "markdown",
   "id": "2c151ec2-8c8e-4ca5-9d31-89e1a2627102",
   "metadata": {},
   "source": [
    "## Домашнее задание 8. Основы Pandas"
   ]
  },
  {
   "cell_type": "markdown",
   "id": "7dc94637-ba70-4996-9fbc-f3687c9b0b97",
   "metadata": {},
   "source": [
    "## Задание 1\n",
    "\n",
    "Определите, какому фильму было выставлено больше всего оценок 5.0."
   ]
  },
  {
   "cell_type": "code",
   "execution_count": null,
   "id": "89a356a9-5b6f-47e3-8bc5-50075b232c0e",
   "metadata": {},
   "outputs": [],
   "source": []
  },
  {
   "cell_type": "markdown",
   "id": "8794fabb-4f3a-41a0-82b5-e335355204d4",
   "metadata": {},
   "source": [
    "## Задание 2\n",
    "По данным файла power.csv посчитайте суммарное потребление стран Прибалтики (Латвия, Литва и Эстония) категорий 4, 12 и 21 за период с 2005 по 2010 год. Не учитывайте в расчётах отрицательные значения quantity."
   ]
  },
  {
   "cell_type": "code",
   "execution_count": null,
   "id": "7caf99d2-3b34-419d-9137-f054b8fa1c1f",
   "metadata": {},
   "outputs": [],
   "source": []
  }
 ],
 "metadata": {
  "kernelspec": {
   "display_name": "Python 3 (ipykernel)",
   "language": "python",
   "name": "python3"
  },
  "language_info": {
   "codemirror_mode": {
    "name": "ipython",
    "version": 3
   },
   "file_extension": ".py",
   "mimetype": "text/x-python",
   "name": "python",
   "nbconvert_exporter": "python",
   "pygments_lexer": "ipython3",
   "version": "3.12.4"
  }
 },
 "nbformat": 4,
 "nbformat_minor": 5
}
