{
 "cells": [
  {
   "cell_type": "markdown",
   "id": "80f99f24-4559-4378-8650-98fded896947",
   "metadata": {},
   "source": [
    "## Домашнее задание 6. Программирование на Python"
   ]
  },
  {
   "cell_type": "markdown",
   "id": "57320a37-7e55-43e6-9571-e08c44df4997",
   "metadata": {},
   "source": [
    "## Задание 1\n",
    "Напишите код, который возвращает название валюты (поле Name) с максимальным значением курса с помощью сервиса: https://www.cbr-xml-daily.ru/daily_json.js"
   ]
  },
  {
   "cell_type": "markdown",
   "id": "cf340b70-2c01-421b-8bf2-8fac8140fcac",
   "metadata": {},
   "source": [
    "## Задание 2\n",
    "Добавьте в класс Rate параметр diff (со значениями True или False), который, в случае значения True в методах курсов валют (eur, usd и т. д.), будет возвращать не курс валюты, а изменение по сравнению с прошлым значением. Считайте, что значение diff=True параметр будет принимать только при возврате значения курса (format_=‘value’). При отображении всей информации о валюте (format_=‘full’) он не используется."
   ]
  },
  {
   "cell_type": "code",
   "execution_count": 153,
   "id": "7d1c905a-7f0d-40e5-bcc5-0708d37c372b",
   "metadata": {},
   "outputs": [],
   "source": [
    "import requests"
   ]
  },
  {
   "cell_type": "code",
   "execution_count": 155,
   "id": "3a9f613b-46d6-4a48-a4c3-3776e64af948",
   "metadata": {},
   "outputs": [],
   "source": [
    "class Rate:\n",
    "    \"\"\"\n",
    "    \n",
    "    \"\"\"\n",
    "    def __init__(self, format_ = 'value', diff = False):\n",
    "        self.format = format_\n",
    "        self.diff = diff\n",
    "    \n",
    "    def exchange_rates(self):\n",
    "        \"\"\"\n",
    "        Возвращает ответ сервиса с информацией о валютах:\n",
    "        Rate().exchange_rates()\n",
    "        {\n",
    "            'AMD': {\n",
    "                'CharCode': 'AMD',\n",
    "                'ID': 'R01060',\n",
    "                'Name': 'Армянских драмов',\n",
    "                'Nominal': 100,\n",
    "                'NumCode': '051',\n",
    "                'Previous': 14.103,\n",
    "                'Value': 14.0879\n",
    "                },\n",
    "            ...\n",
    "        }\n",
    "        \"\"\"\n",
    "        self.r = requests.get('https://www.cbr-xml-daily.ru/daily_json.js')\n",
    "        return self.r.json()['Valute']\n",
    "    \n",
    "    def make_format(self, currency):\n",
    "        \"\"\"\n",
    "        Возвращает информацию о валюте currency в трех вариантах:\n",
    "        - полная информация о валюте при self.format = 'full':\n",
    "        Rate('full').make_format('EUR')\n",
    "        {\n",
    "            'CharCode': 'EUR',\n",
    "            'ID': 'R01239',\n",
    "            'Name': 'Евро',\n",
    "            'Nominal': 1,\n",
    "            'NumCode': '978',\n",
    "            'Previous': 79.6765,\n",
    "            'Value': 79.4966\n",
    "        }\n",
    "        - только курс валюты при self.format = 'value':\n",
    "        Rate('value').make_format('EUR')\n",
    "        79.4966\n",
    "        - только изменение курса валюты self.format = 'value', self.diff = 'True':\n",
    "        Rate(diff=True).make_format('EUR')\n",
    "        0.4183000000000021\n",
    "        \"\"\"\n",
    "        response = self.exchange_rates()\n",
    "        if currency in response:\n",
    "            if self.format == 'full':\n",
    "                return response[currency]\n",
    "            if self.format == 'value':\n",
    "                if self.diff:\n",
    "                    return (response[currency]['Value'] - response[currency]['Previous'])\n",
    "                return response[currency]['Value']\n",
    "        return 'Error'\n",
    "    \n",
    "    def eur(self):\n",
    "        \"\"\"Возвращает курс евро на сегодня в формате self.format\"\"\"\n",
    "        return self.make_format('EUR')\n",
    "    \n",
    "    def usd(self):\n",
    "        \"\"\"Возвращает курс доллара на сегодня в формате self.format\"\"\"\n",
    "        return self.make_format('USD')\n",
    "    \n",
    "    def brl(self):\n",
    "        \"\"\"Возвращает курс бразильского реала на сегодня в формате self.format\"\"\"\n",
    "        return self.make_format('BRL')\n",
    "\n",
    "    def get_max_rate(self):\n",
    "        \"\"\"\n",
    "        Возвращает название валюты с самым высоким курсом на данный момент:\n",
    "        Rate().get_max_rate()\n",
    "        'СДР (специальные права заимствования)'\n",
    "        \"\"\"\n",
    "        currencies_dict = self.exchange_rates()\n",
    "        max_rate = ('Currency Name', 0)\n",
    "        for cur in currencies_dict.values():\n",
    "            if cur['Value'] > max_rate[1]:\n",
    "                max_rate = cur['Name'], cur['Value']       \n",
    "        return max_rate[0]"
   ]
  },
  {
   "cell_type": "code",
   "execution_count": 157,
   "id": "578f97eb-ad9f-454f-a37f-da38c898c764",
   "metadata": {},
   "outputs": [
    {
     "data": {
      "text/plain": [
       "'СДР (специальные права заимствования)'"
      ]
     },
     "execution_count": 157,
     "metadata": {},
     "output_type": "execute_result"
    }
   ],
   "source": [
    "Rate().get_max_rate()"
   ]
  },
  {
   "cell_type": "code",
   "execution_count": 158,
   "id": "73cf20d5-de08-4b79-81c5-fc99b29cce43",
   "metadata": {},
   "outputs": [
    {
     "data": {
      "text/plain": [
       "0.5208000000000084"
      ]
     },
     "execution_count": 158,
     "metadata": {},
     "output_type": "execute_result"
    }
   ],
   "source": [
    "r = Rate(diff=True)\n",
    "r.usd()"
   ]
  },
  {
   "cell_type": "code",
   "execution_count": 161,
   "id": "f8550064-09a8-47b4-8392-d6315ede3eb6",
   "metadata": {},
   "outputs": [
    {
     "data": {
      "text/plain": [
       "95.0262"
      ]
     },
     "execution_count": 161,
     "metadata": {},
     "output_type": "execute_result"
    }
   ],
   "source": [
    "r.diff = False\n",
    "r.usd()"
   ]
  }
 ],
 "metadata": {
  "kernelspec": {
   "display_name": "Python 3 (ipykernel)",
   "language": "python",
   "name": "python3"
  },
  "language_info": {
   "codemirror_mode": {
    "name": "ipython",
    "version": 3
   },
   "file_extension": ".py",
   "mimetype": "text/x-python",
   "name": "python",
   "nbconvert_exporter": "python",
   "pygments_lexer": "ipython3",
   "version": "3.12.4"
  }
 },
 "nbformat": 4,
 "nbformat_minor": 5
}
