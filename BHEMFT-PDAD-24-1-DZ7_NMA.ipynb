{
 "cells": [
  {
   "cell_type": "markdown",
   "id": "03b3e876-2467-469a-a46f-99afa22b66b6",
   "metadata": {},
   "source": [
    "## Домашнее задание 7. Регулярные выражения и основы синтаксического разбора"
   ]
  },
  {
   "cell_type": "markdown",
   "id": "85c68da3-0089-4786-81ae-38c63808c8e1",
   "metadata": {},
   "source": [
    "## Задание 1\n",
    "Напишите функцию, которая принимает на вход строку и проверяет, является ли она валидным транспортным номером (1 буква, 3 цифры, 2 буквы, 2–3 цифры). Обратите внимание, что не все буквы кириллического алфавита используются в транспортных номерах.\n",
    "\r\n",
    "Если номер валиден, то функция должна возвращать отдельно номер и регион."
   ]
  },
  {
   "cell_type": "code",
   "execution_count": 1,
   "id": "7080a883-75f4-48eb-96ce-1ba402080243",
   "metadata": {},
   "outputs": [],
   "source": [
    "import re"
   ]
  },
  {
   "cell_type": "code",
   "execution_count": 3,
   "id": "a4b7bdfe-0be3-494a-a036-1d388e68c9da",
   "metadata": {},
   "outputs": [],
   "source": [
    "def car_id_validation(car_id):\n",
    "    \"\"\"\n",
    "    Проверяет, является ли строка валидным транспортным номером.\n",
    "    \n",
    "    car_id_validation('A123BC45')\n",
    "    Номер A123BC валиден. Регион: 45.\n",
    "    \n",
    "    car_id_validation('AБ000A001')\n",
    "    Номер не валиден.\n",
    "    \"\"\"\n",
    "    valid_letters = '[ABCEHKMOPTXYАВЕКМНОРСТУХ]' #допустимые буквы на латинице и кириллице\n",
    "    valid_numbers = r'(\\d{2}[1-9]|\\d[1-9]\\d|[1-9]\\d{2})' #допустимый формат номера: 001-999\n",
    "    valid_regions = r'([1-9]\\d{1,2}|\\d[1-9])' #допустимый формат региона: 01-999\n",
    "    # формат допустимого трансортного номера: доп. буква + доп. номер + 2 доп. буквы + доп. регион\n",
    "    valid_id = re.fullmatch('('+valid_letters+valid_numbers+valid_letters+'{2})'+valid_regions, car_id)\n",
    "    if valid_id: # если совпадение не пустое\n",
    "        car_id_number = valid_id.group(1) # доп. буква + доп. номер + 2 доп. буквы\n",
    "        car_id_region = valid_id.group(3) # допустимый регион\n",
    "        print(f'Номер {car_id_number} валиден. Регион: {car_id_region}.')\n",
    "        return car_id_number, car_id_region\n",
    "    else:\n",
    "        print(f'Номер не валиден.')\n",
    "        return"
   ]
  },
  {
   "cell_type": "code",
   "execution_count": 4,
   "id": "0795664a-abeb-48dd-80fc-36610b77990b",
   "metadata": {},
   "outputs": [
    {
     "name": "stdout",
     "output_type": "stream",
     "text": [
      "Номер А222BС валиден. Регион: 96.\n"
     ]
    }
   ],
   "source": [
    "car_id = 'А222BС96'\n",
    "car_id_validated = car_id_validation(car_id)"
   ]
  },
  {
   "cell_type": "code",
   "execution_count": 7,
   "id": "e29574aa-061a-4545-885a-1709d235a7e3",
   "metadata": {},
   "outputs": [
    {
     "name": "stdout",
     "output_type": "stream",
     "text": [
      "Номер не валиден.\n"
     ]
    }
   ],
   "source": [
    "car_id = 'АБ22ВВ193'\n",
    "car_id_validated = car_id_validation(car_id)"
   ]
  },
  {
   "cell_type": "markdown",
   "id": "7a792440-0ee0-4437-95c1-f56c7931cf6d",
   "metadata": {},
   "source": [
    "## Задание 2\n",
    "Напишите функцию, которая будет удалять все последовательные повторы слов из заданной строки при помощи регулярных выражений."
   ]
  },
  {
   "cell_type": "code",
   "execution_count": 10,
   "id": "04a27b85-31ea-42a8-afdb-c05207d82b88",
   "metadata": {},
   "outputs": [],
   "source": [
    "def delete_recurrences(str_):\n",
    "    \"\"\"\n",
    "    Удаляет все последовательные повторы слов из строки.\n",
    "\n",
    "    delete_recurrences('Очень разные повторы повторы очень разных слов')\n",
    "    'Очень разные повторы очень разных слов'\n",
    "    \"\"\"\n",
    "    # подстрока формата: погр.пустая строка + (последовательность словарных символов) (гр.1) +\n",
    "    # + последовательность (пробельные символы + (гр.1)) (гр.2) + погр.пустая строка\n",
    "    # заменяется на: группу 1 (последовательность словарых символов - повторяющееся слово)\n",
    "    # флаг re.I включает регистронезависимый поиск текста\n",
    "    str_wo_rec = re.sub(r'\\b(\\w+)(\\s+\\1)+\\b', r'\\1', str_, flags=re.I)\n",
    "    return str_wo_rec"
   ]
  },
  {
   "cell_type": "code",
   "execution_count": 12,
   "id": "4a7ff1dc-c93b-4319-826c-3e8d6321f1f5",
   "metadata": {},
   "outputs": [],
   "source": [
    "some_string = 'Напишите функцию функцию, которая будет будет будет будет удалять все все все все последовательные повторы слов из из из из заданной строки строки при помощи регулярных выражений'"
   ]
  },
  {
   "cell_type": "code",
   "execution_count": 14,
   "id": "6ee6814f-6e29-4618-9bcf-1edc23cfc793",
   "metadata": {},
   "outputs": [
    {
     "name": "stdout",
     "output_type": "stream",
     "text": [
      "Напишите функцию, которая будет удалять все последовательные повторы слов из заданной строки при помощи регулярных выражений\n"
     ]
    }
   ],
   "source": [
    "print(delete_recurrences(some_string))"
   ]
  }
 ],
 "metadata": {
  "kernelspec": {
   "display_name": "Python 3 (ipykernel)",
   "language": "python",
   "name": "python3"
  },
  "language_info": {
   "codemirror_mode": {
    "name": "ipython",
    "version": 3
   },
   "file_extension": ".py",
   "mimetype": "text/x-python",
   "name": "python",
   "nbconvert_exporter": "python",
   "pygments_lexer": "ipython3",
   "version": "3.12.4"
  }
 },
 "nbformat": 4,
 "nbformat_minor": 5
}
